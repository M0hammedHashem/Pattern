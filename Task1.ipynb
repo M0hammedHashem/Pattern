Given the list data= [15,18,13,20,20,11,14,99,100,200,201,0], use Numpy to calculate the mean, median, variance, standard deviation

import numpy as np
list_data= np.array([15,18,13,20,20,11,14,99,100,200,201,0])
print("The mean of data set: {}".format(list_data.mean()))
print("The median of data set: {}".format(np.median(list_data)))
print("The variance of data set: {}".format(np.var(list_data)))
print("The standard deviation of data set: {}".format(np.std(list_data)))
Using Numpy and Matplotlib, plot a figure of Gaussian distribution of mean=6.0, standard deviation=1.0, with size=100000

import numpy as np
import matplotlib.pyplot as plt
x = np.random.normal(6.0, 1.0, 100000)
plt.hist(x, bins= 100)
plt.show()
