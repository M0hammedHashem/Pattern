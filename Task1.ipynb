{
 "cells": [
  {
   "cell_type": "markdown",
   "id": "1851608c",
   "metadata": {},
   "source": [
    "Given the list data= [15,18,13,20,20,11,14,99,100,200,201,0], use Numpy to calculate the mean, median, variance, standard deviation"
   ]
  },
  {
   "cell_type": "code",
   "execution_count": null,
   "id": "8fb1e1e4",
   "metadata": {},
   "outputs": [],
   "source": [
    "import numpy as np\n",
    "list_data= np.array([15,18,13,20,20,11,14,99,100,200,201,0])\n",
    "print(\"The mean of data set: {}\".format(list_data.mean()))\n",
    "print(\"The median of data set: {}\".format(np.median(list_data)))\n",
    "print(\"The variance of data set: {}\".format(np.var(list_data)))\n",
    "print(\"The standard deviation of data set: {}\".format(np.std(list_data)))"
   ]
  },
  {
   "cell_type": "markdown",
   "id": "b9cce69a",
   "metadata": {},
   "source": [
    "Using Numpy and Matplotlib, plot a figure of Gaussian distribution of mean=6.0, standard deviation=1.0, with size=100000"
   ]
  },
  {
   "cell_type": "code",
   "execution_count": null,
   "id": "1ed43491",
   "metadata": {},
   "outputs": [],
   "source": [
    "import numpy as np\n",
    "import matplotlib.pyplot as plt\n",
    "x = np.random.normal(6.0, 1.0, 100000)\n",
    "plt.hist(x, bins= 100)\n",
    "plt.show()"
   ]
  },
  {
   "cell_type": "code",
   "execution_count": null,
   "id": "3c9022df",
   "metadata": {},
   "outputs": [],
   "source": []
  }
 ],
 "metadata": {
  "kernelspec": {
   "display_name": "Python 3 (ipykernel)",
   "language": "python",
   "name": "python3"
  },
  "language_info": {
   "codemirror_mode": {
    "name": "ipython",
    "version": 3
   },
   "file_extension": ".py",
   "mimetype": "text/x-python",
   "name": "python",
   "nbconvert_exporter": "python",
   "pygments_lexer": "ipython3",
   "version": "3.8.3"
  }
 },
 "nbformat": 4,
 "nbformat_minor": 5
}
